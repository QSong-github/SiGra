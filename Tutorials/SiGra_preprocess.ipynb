{
 "cells": [
  {
   "cell_type": "markdown",
   "id": "290d4ee0",
   "metadata": {},
   "source": [
    "# Preprocessing Nanostring data\n",
    "## download dataset\n",
    "you can donwload dataset from [here](https://nanostring.com/products/cosmx-spatial-molecular-imager/ffpe-dataset/)  \n",
    "And you can have the following data structures:  \n",
    "You will have:   \n",
    "1. gene expression matrix \"Lung9_Rep1_exprMat_file.csv\"  \n",
    "2. gene expression annotation \"matched_annotation_all.csv\"  \n",
    "3. 20 fovs histology images (CellComposite_F001.jpg, etc)\n",
    "\n",
    "The data folder structure is like:  \n",
    "```\n",
    "├── dataset  \n",
    "│   └── nanostring  \n",
    "│        └── Lung9_Rep1_exprMat_file.csv  \n",
    "│        └── matched_annotation_all.csv  \n",
    "│        └── fov1  \n",
    "│              ├── CellComposite_F001.jpg  \n",
    "│        └── fov2  \n",
    "│              ├── CellComposite_F002.jpg  \n",
    "│        └── ...  \n",
    "│        └── fov20  \n",
    "│              ├── ...  \n",
    "```\n"
   ]
  },
  {
   "cell_type": "markdown",
   "id": "903417ad",
   "metadata": {},
   "source": [
    "## 1. import modules"
   ]
  },
  {
   "cell_type": "code",
   "execution_count": 1,
   "id": "c347ec23",
   "metadata": {},
   "outputs": [],
   "source": [
    "import pandas as pd\n",
    "import numpy as np\n",
    "import scanpy as sc\n",
    "import anndata as AD\n",
    "import cv2\n",
    "import os\n",
    "import warnings\n",
    "warnings.filterwarnings('ignore')"
   ]
  },
  {
   "cell_type": "markdown",
   "id": "44494542",
   "metadata": {},
   "source": [
    "### 1.1 define fovs names"
   ]
  },
  {
   "cell_type": "code",
   "execution_count": 2,
   "id": "9f72694e",
   "metadata": {},
   "outputs": [],
   "source": [
    "ids = [\n",
    "        'fov1', 'fov2', 'fov3', 'fov4', 'fov5',\n",
    "        'fov6', 'fov7', 'fov8', 'fov9', 'fov10',\n",
    "        'fov11', 'fov12', 'fov13', 'fov14', 'fov15',\n",
    "        'fov16', 'fov17', 'fov18', 'fov19', 'fov20'\n",
    "    ]\n",
    "img_names = [\n",
    "        'F001', 'F002', 'F003', 'F004', 'F005',\n",
    "        'F006', 'F007', 'F008', 'F009', 'F010',\n",
    "        'F011', 'F012', 'F013', 'F014', 'F015',\n",
    "        'F016', 'F017', 'F018', 'F019', 'F020',\n",
    "]\n"
   ]
  },
  {
   "cell_type": "markdown",
   "id": "22105d5f",
   "metadata": {},
   "source": [
    "### 1.2 define a function to generate the sample_data.h5ad\n",
    "we showed one fov step by step, and provide a script for all 20 fovs"
   ]
  },
  {
   "cell_type": "markdown",
   "id": "a76287f5",
   "metadata": {},
   "source": [
    "### 1.3.generate_h5ad file"
   ]
  },
  {
   "cell_type": "code",
   "execution_count": 3,
   "id": "894fa1e5",
   "metadata": {},
   "outputs": [],
   "source": [
    "root = '../dataset/nanostring'\n",
    "id = 'fov1'\n",
    "img_id = 'F001'\n",
    "fov = 1"
   ]
  },
  {
   "cell_type": "markdown",
   "id": "ee6da352",
   "metadata": {},
   "source": [
    "### 1.4 read images and gene expression"
   ]
  },
  {
   "cell_type": "code",
   "execution_count": 4,
   "id": "dd981311",
   "metadata": {},
   "outputs": [
    {
     "name": "stdout",
     "output_type": "stream",
     "text": [
      "../dataset/nanostring/fov1/CellComposite_F001.jpg\n"
     ]
    }
   ],
   "source": [
    "img_root = os.path.join(root, id, 'CellComposite_%s.jpg'%(img_id))\n",
    "print(img_root)\n",
    "img = cv2.imread(img_root)\n",
    "height, width, c = img.shape\n",
    "gene_expression = os.path.join(root, 'Lung9_Rep1_exprMat_file.csv')\n",
    "ge = pd.read_csv(gene_expression, delimiter=',')"
   ]
  },
  {
   "cell_type": "markdown",
   "id": "68ba54d8",
   "metadata": {},
   "source": [
    "### 1.5 get the gene expression for current fov"
   ]
  },
  {
   "cell_type": "code",
   "execution_count": 5,
   "id": "e1860859",
   "metadata": {},
   "outputs": [],
   "source": [
    "gene_f1 = ge[ge['fov'] == int(fov)]\n",
    "gene_f1 = gene_f1.drop(columns=['fov'])\n",
    "gene_f1 = gene_f1.set_index('cell_ID')\n",
    "idx = gene_f1.index"
   ]
  },
  {
   "cell_type": "markdown",
   "id": "0a82091e",
   "metadata": {},
   "source": [
    "### 1.6 get annotation"
   ]
  },
  {
   "cell_type": "code",
   "execution_count": 6,
   "id": "932ddf79",
   "metadata": {},
   "outputs": [],
   "source": [
    "annor = os.path.join(root, 'matched_annotation_all.csv')\n",
    "anno = pd.read_csv(annor)\n",
    "anno_f1 = anno[anno['fov'] == int(fov)]"
   ]
  },
  {
   "cell_type": "markdown",
   "id": "0f7dd2fa",
   "metadata": {},
   "source": [
    "### 1.7 define width and height for each image patch"
   ]
  },
  {
   "cell_type": "code",
   "execution_count": 7,
   "id": "2319f168",
   "metadata": {},
   "outputs": [],
   "source": [
    "w, h = 60, 60"
   ]
  },
  {
   "cell_type": "markdown",
   "id": "89893e69",
   "metadata": {},
   "source": [
    "### 1.8 get center of each cell\n",
    "match the center to images"
   ]
  },
  {
   "cell_type": "code",
   "execution_count": 8,
   "id": "cb0631c9",
   "metadata": {},
   "outputs": [],
   "source": [
    "\n",
    "for i, row in anno_f1.iterrows():\n",
    "    cx, cy = float(anno_f1['CenterX_local_px'][i]), float(anno_f1['CenterY_local_px'][i])\n",
    "    anno_f1['CenterY_local_px'][i] = height - float(anno_f1['CenterY_local_px'][i])\n",
    "\n",
    "    if cx - w < 0 or cx + w > width or cy - h < 0 or cy + h > height:\n",
    "        anno_f1['cell_type'][i] = np.nan\n",
    "anno_f1 = anno_f1.set_index('cell_ID').reindex(idx)"
   ]
  },
  {
   "cell_type": "markdown",
   "id": "b4c8406d",
   "metadata": {},
   "source": [
    "### 1.9 if the annotations is nan, drop the cooresponding rows in the gene expression"
   ]
  },
  {
   "cell_type": "code",
   "execution_count": 9,
   "id": "a2bbccef",
   "metadata": {},
   "outputs": [],
   "source": [
    "gene_f1['cell_type'] = anno_f1['cell_type']\n",
    "gene_f1['niche'] = anno_f1['niche']\n",
    "gene_f1 = gene_f1.dropna(axis=0, how='any')\n",
    "gene_f1 = gene_f1.drop(columns=['cell_type', 'niche'])"
   ]
  },
  {
   "cell_type": "code",
   "execution_count": 10,
   "id": "2892fdb6",
   "metadata": {},
   "outputs": [],
   "source": [
    "## build ann data\n",
    "adata = AD.AnnData(gene_f1)\n",
    "anno_f1.index = anno_f1.index.map(str)\n",
    "adata.obs['cell_type'] = anno_f1.loc[adata.obs_names, 'cell_type']\n",
    "adata.obs['niche'] = anno_f1.loc[adata.obs_names, 'niche']\n",
    "\n",
    "adata.obs['cx'] = anno_f1.loc[adata.obs_names, 'CenterX_local_px']\n",
    "adata.obs['cy'] = anno_f1.loc[adata.obs_names, 'CenterY_local_px']\n",
    "\n",
    "adata.obs['cx_g'] = anno_f1.loc[adata.obs_names, 'CenterX_global_px']\n",
    "adata.obs['cy_g'] = anno_f1.loc[adata.obs_names, 'CenterY_local_px']\n",
    "\n",
    "df = pd.DataFrame(index=adata.obs.index)\n",
    "df['cx'] = adata.obs['cx']\n",
    "df['cy'] = adata.obs['cy']\n",
    "arr = df.to_numpy()\n",
    "adata.obsm['spatial'] = arr\n",
    "\n",
    "df = pd.DataFrame(index=adata.obs.index)\n",
    "df['cx_g'] = adata.obs['cx_g']\n",
    "df['cy_g'] = adata.obs['cy_g']\n",
    "arr = df.to_numpy()\n",
    "adata.obsm['spatial_global'] = arr"
   ]
  },
  {
   "cell_type": "markdown",
   "id": "56495860",
   "metadata": {},
   "source": [
    "### 1.10 merge cell types\n"
   ]
  },
  {
   "cell_type": "code",
   "execution_count": 11,
   "id": "022b79f5",
   "metadata": {},
   "outputs": [],
   "source": [
    "dicts = {}\n",
    "\n",
    "dicts['T CD8 memory'] = 'lymphocyte'\n",
    "dicts['T CD8 naive'] = 'lymphocyte'\n",
    "dicts['T CD4 naive'] = 'lymphocyte'\n",
    "dicts['T CD4 memory'] = 'lymphocyte'\n",
    "dicts['Treg'] = 'lymphocyte'\n",
    "dicts['B-cell'] = 'lymphocyte'\n",
    "dicts['plasmablast'] = 'lymphocyte'\n",
    "dicts['NK'] = 'lymphocyte'\n",
    "\n",
    "\n",
    "dicts['monocyte'] = 'Mcell'\n",
    "dicts['macrophage'] = 'Mcell'\n",
    "dicts['mDC'] = 'Mcell'\n",
    "dicts['pDC'] = 'Mcell'\n",
    "\n",
    "\n",
    "dicts['tumors'] = 'tumors'\n",
    "\n",
    "\n",
    "dicts['epithelial'] = 'epithelial'\n",
    "\n",
    "dicts['mast'] = 'mast'\n",
    "dicts['endothelial'] = 'endothelial'\n",
    "\n",
    "dicts['fibroblast'] = 'fibroblast'\n",
    "\n",
    "dicts['neutrophil'] = 'neutrophil'\n",
    "adata.obs['merge_cell_type'] = np.zeros(adata.shape[0])\n",
    "for key, v in dicts.items():\n",
    "    idx = (adata.obs['cell_type'] == key)\n",
    "    adata.obs['merge_cell_type'][idx] = v\n",
    "adata.obs['merge_cell_type'] = adata.obs['merge_cell_type'].astype('category')"
   ]
  },
  {
   "cell_type": "markdown",
   "id": "ef789e8d",
   "metadata": {},
   "source": [
    "### 1.11 save anndata"
   ]
  },
  {
   "cell_type": "code",
   "execution_count": 12,
   "id": "f5cc30c6",
   "metadata": {},
   "outputs": [],
   "source": [
    "adata.write(os.path.join(root, id, 'sampledata.h5ad'))"
   ]
  },
  {
   "cell_type": "markdown",
   "id": "2bb216e8",
   "metadata": {},
   "source": [
    "### 1.12 one function for all steps"
   ]
  },
  {
   "cell_type": "code",
   "execution_count": 13,
   "id": "cad7db1f",
   "metadata": {},
   "outputs": [],
   "source": [
    "def gen_h5ad(id, img_id, fov):\n",
    "    root = '../dataset/nanostring'\n",
    "\n",
    "    img_root = os.path.join(root, id, 'CellComposite_%s.jpg'%(img_id))\n",
    "    print(img_root)\n",
    "    img = cv2.imread(img_root)\n",
    "    height, width, c = img.shape\n",
    "    gene_expression = os.path.join(root, 'Lung9_Rep1_exprMat_file.csv')\n",
    "    ge = pd.read_csv(gene_expression, delimiter=',')\n",
    "    gene_f1 = ge[ge['fov'] == int(fov)]\n",
    "    gene_f1 = gene_f1.drop(columns=['fov'])\n",
    "    gene_f1 = gene_f1.set_index('cell_ID')\n",
    "    idx = gene_f1.index\n",
    "\n",
    "    annor = os.path.join(root, 'matched_annotation_all.csv')\n",
    "    anno = pd.read_csv(annor)\n",
    "    anno_f1 = anno[anno['fov'] == int(fov)]\n",
    "\n",
    "    w, h = 60, 60\n",
    "\n",
    "    for i, row in anno_f1.iterrows():\n",
    "        cx, cy = float(anno_f1['CenterX_local_px'][i]), float(anno_f1['CenterY_local_px'][i])\n",
    "        anno_f1['CenterY_local_px'][i] = height - float(anno_f1['CenterY_local_px'][i])\n",
    "\n",
    "        if cx - w < 0 or cx + w > width or cy - h < 0 or cy + h > height:\n",
    "            anno_f1['cell_type'][i] = np.nan\n",
    "    anno_f1 = anno_f1.set_index('cell_ID').reindex(idx)\n",
    "\n",
    "\n",
    "\n",
    "    gene_f1['cell_type'] = anno_f1['cell_type']\n",
    "    gene_f1['niche'] = anno_f1['niche']\n",
    "    gene_f1 = gene_f1.dropna(axis=0, how='any')\n",
    "    gene_f1 = gene_f1.drop(columns=['cell_type', 'niche'])\n",
    "\n",
    "    adata = AD.AnnData(gene_f1)\n",
    "    anno_f1.index = anno_f1.index.map(str)\n",
    "    adata.obs['cell_type'] = anno_f1.loc[adata.obs_names, 'cell_type']\n",
    "    adata.obs['niche'] = anno_f1.loc[adata.obs_names, 'niche']\n",
    "\n",
    "    adata.obs['cx'] = anno_f1.loc[adata.obs_names, 'CenterX_local_px']\n",
    "    adata.obs['cy'] = anno_f1.loc[adata.obs_names, 'CenterY_local_px']\n",
    "\n",
    "    adata.obs['cx_g'] = anno_f1.loc[adata.obs_names, 'CenterX_global_px']\n",
    "    adata.obs['cy_g'] = anno_f1.loc[adata.obs_names, 'CenterY_local_px']\n",
    "\n",
    "    df = pd.DataFrame(index=adata.obs.index)\n",
    "    df['cx'] = adata.obs['cx']\n",
    "    df['cy'] = adata.obs['cy']\n",
    "    arr = df.to_numpy()\n",
    "    adata.obsm['spatial'] = arr\n",
    "\n",
    "    df = pd.DataFrame(index=adata.obs.index)\n",
    "    df['cx_g'] = adata.obs['cx_g']\n",
    "    df['cy_g'] = adata.obs['cy_g']\n",
    "    arr = df.to_numpy()\n",
    "    adata.obsm['spatial_global'] = arr\n",
    "\n",
    "    dicts = {}\n",
    "\n",
    "    dicts['T CD8 memory'] = 'lymphocyte'\n",
    "    dicts['T CD8 naive'] = 'lymphocyte'\n",
    "    dicts['T CD4 naive'] = 'lymphocyte'\n",
    "    dicts['T CD4 memory'] = 'lymphocyte'\n",
    "    dicts['Treg'] = 'lymphocyte'\n",
    "    dicts['B-cell'] = 'lymphocyte'\n",
    "    dicts['plasmablast'] = 'lymphocyte'\n",
    "    dicts['NK'] = 'lymphocyte'\n",
    "\n",
    "\n",
    "    dicts['monocyte'] = 'Mcell'\n",
    "    dicts['macrophage'] = 'Mcell'\n",
    "    dicts['mDC'] = 'Mcell'\n",
    "    dicts['pDC'] = 'Mcell'\n",
    "\n",
    "\n",
    "    dicts['tumors'] = 'tumors'\n",
    "\n",
    "\n",
    "    dicts['epithelial'] = 'epithelial'\n",
    "\n",
    "    dicts['mast'] = 'mast'\n",
    "    dicts['endothelial'] = 'endothelial'\n",
    "\n",
    "    dicts['fibroblast'] = 'fibroblast'\n",
    "\n",
    "    dicts['neutrophil'] = 'neutrophil'\n",
    "    adata.obs['merge_cell_type'] = np.zeros(adata.shape[0])\n",
    "    for key, v in dicts.items():\n",
    "        idx = (adata.obs['cell_type'] == key)\n",
    "        adata.obs['merge_cell_type'][idx] = v\n",
    "    adata.obs['merge_cell_type'] = adata.obs['merge_cell_type'].astype('category')\n",
    "\n",
    "    adata.write(os.path.join(root, id, 'sampledata.h5ad'))"
   ]
  },
  {
   "cell_type": "code",
   "execution_count": 14,
   "id": "1c215319",
   "metadata": {},
   "outputs": [
    {
     "name": "stdout",
     "output_type": "stream",
     "text": [
      "../dataset/nanostring/fov1/CellComposite_F001.jpg\n",
      "../dataset/nanostring/fov2/CellComposite_F002.jpg\n",
      "../dataset/nanostring/fov3/CellComposite_F003.jpg\n",
      "../dataset/nanostring/fov4/CellComposite_F004.jpg\n",
      "../dataset/nanostring/fov5/CellComposite_F005.jpg\n",
      "../dataset/nanostring/fov6/CellComposite_F006.jpg\n",
      "../dataset/nanostring/fov7/CellComposite_F007.jpg\n",
      "../dataset/nanostring/fov8/CellComposite_F008.jpg\n",
      "../dataset/nanostring/fov9/CellComposite_F009.jpg\n",
      "../dataset/nanostring/fov10/CellComposite_F010.jpg\n",
      "../dataset/nanostring/fov11/CellComposite_F011.jpg\n",
      "../dataset/nanostring/fov12/CellComposite_F012.jpg\n",
      "../dataset/nanostring/fov13/CellComposite_F013.jpg\n",
      "../dataset/nanostring/fov14/CellComposite_F014.jpg\n",
      "../dataset/nanostring/fov15/CellComposite_F015.jpg\n",
      "../dataset/nanostring/fov16/CellComposite_F016.jpg\n",
      "../dataset/nanostring/fov17/CellComposite_F017.jpg\n",
      "../dataset/nanostring/fov18/CellComposite_F018.jpg\n",
      "../dataset/nanostring/fov19/CellComposite_F019.jpg\n",
      "../dataset/nanostring/fov20/CellComposite_F020.jpg\n"
     ]
    }
   ],
   "source": [
    "fov = 1\n",
    "for id, imname in zip(ids, img_names):\n",
    "    gen_h5ad(id, imname, fov)\n",
    "    fov += 1"
   ]
  },
  {
   "cell_type": "code",
   "execution_count": null,
   "id": "dc9aec4d",
   "metadata": {},
   "outputs": [],
   "source": []
  }
 ],
 "metadata": {
  "kernelspec": {
   "display_name": "Python 3 (ipykernel)",
   "language": "python",
   "name": "python3"
  },
  "language_info": {
   "codemirror_mode": {
    "name": "ipython",
    "version": 3
   },
   "file_extension": ".py",
   "mimetype": "text/x-python",
   "name": "python",
   "nbconvert_exporter": "python",
   "pygments_lexer": "ipython3",
   "version": "3.8.5"
  }
 },
 "nbformat": 4,
 "nbformat_minor": 5
}
